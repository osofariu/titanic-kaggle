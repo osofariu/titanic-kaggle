{
 "cells": [
  {
   "cell_type": "code",
   "execution_count": 107,
   "metadata": {
    "pycharm": {
     "is_executing": false
    }
   },
   "outputs": [
    {
     "name": "stdout",
     "output_type": "stream",
     "text": [
      "['Name']\n"
     ]
    }
   ],
   "source": [
    "import pandas as pd\n",
    "import numpy as np\n",
    "\n",
    "peopleData = [['John', 12, 1], ['Jim', np.nan, 2], ['Jobe', 8, 2], \n",
    "              ['Julie', 10, 2], ['Jackson', 30, 3], ['Jamie', np.nan, 3]]\n",
    "people = pd.DataFrame(peopleData, columns = ['Name', 'Age', 'Class'])\n",
    "median_ages = people.groupby('Class').median()\n",
    "people['AgeAdjusted'] = people.apply(lambda row: median_ages['Age'][row['Class']] \n",
    "                                     if np.isnan(row['Age']) else row['Age'], axis=1)\n",
    "\n",
    "# more group-by examples\n",
    "df = pd.DataFrame([\n",
    "        ('bird', 'Falconiformes', 389.0),\n",
    "        ('bird', 'Psittaciformes', 24.0),\n",
    "        ('mammal', 'Carnivora', 80.2),\n",
    "        ('mammal', 'Primates', np.nan),\n",
    "        ('mammal', 'Carnivora', 58)\n",
    "    ],\n",
    "    index=['falcon', 'parrot', 'lion', 'monkey', 'leopard'],\n",
    "    columns=('class', 'order', 'max_speed'))\n",
    "\n",
    "grouped = df.groupby(['class'], axis='rows')['max_speed']\n",
    "\n",
    "#print(grouped.median())\n",
    "\n",
    "people2 = people.set_index(['Name', 'Class'])\n",
    "print(people2.index.names.difference(['Class']))"
   ]
  },
  {
   "cell_type": "code",
   "execution_count": null,
   "metadata": {},
   "outputs": [],
   "source": []
  },
  {
   "cell_type": "code",
   "execution_count": null,
   "metadata": {},
   "outputs": [],
   "source": []
  }
 ],
 "metadata": {
  "kernelspec": {
   "display_name": "Python 3",
   "language": "python",
   "name": "python3"
  },
  "language_info": {
   "codemirror_mode": {
    "name": "ipython",
    "version": 3
   },
   "file_extension": ".py",
   "mimetype": "text/x-python",
   "name": "python",
   "nbconvert_exporter": "python",
   "pygments_lexer": "ipython3",
   "version": "3.7.4"
  },
  "pycharm": {
   "stem_cell": {
    "cell_type": "raw",
    "metadata": {
     "collapsed": false
    },
    "source": []
   }
  }
 },
 "nbformat": 4,
 "nbformat_minor": 1
}
