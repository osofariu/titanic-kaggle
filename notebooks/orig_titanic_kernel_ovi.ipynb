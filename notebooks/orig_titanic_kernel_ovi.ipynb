{
 "cells": [
  {
   "cell_type": "markdown",
   "metadata": {},
   "source": [
    "# Titanic Challenge"
   ]
  },
  {
   "cell_type": "code",
   "execution_count": 1,
   "metadata": {
    "pycharm": {
     "is_executing": false,
     "name": "#%%\n"
    }
   },
   "outputs": [],
   "source": [
    "# import sys\n",
    "# !{sys.executable} -m pip install numpy\n",
    "# !{sys.executable} -m pip install pandas\n",
    "# !{sys.executable} -m pip install matplotlib\n",
    "# !{sys.executable} -m pip install sklearn"
   ]
  },
  {
   "cell_type": "code",
   "execution_count": 2,
   "metadata": {
    "_cell_guid": "b1076dfc-b9ad-4769-8c92-a6c4dae69d19",
    "_uuid": "8f2839f25d086af736a60e9eeb907d3b93b6e0e5",
    "pycharm": {
     "is_executing": false
    }
   },
   "outputs": [
    {
     "name": "stdout",
     "output_type": "stream",
     "text": [
      "kaggle/input/titanic/test.csv\n",
      "kaggle/input/titanic/titanic.zip\n",
      "kaggle/input/titanic/train.csv\n",
      "kaggle/input/titanic/gender_submission.csv\n"
     ]
    }
   ],
   "source": [
    "import numpy as np # linear algebra\n",
    "import pandas as pd # data processing, CSV file I/O (e.g. pd.read_csv)\n",
    "\n",
    "import os\n",
    "for dirname, _, filenames in os.walk('kaggle/input'):\n",
    "    for filename in filenames:\n",
    "        print(os.path.join(dirname, filename))"
   ]
  },
  {
   "cell_type": "markdown",
   "metadata": {},
   "source": [
    "### Look for columns with missing values"
   ]
  },
  {
   "cell_type": "code",
   "execution_count": 3,
   "metadata": {
    "pycharm": {
     "is_executing": false
    }
   },
   "outputs": [
    {
     "name": "stdout",
     "output_type": "stream",
     "text": [
      "Titanic Training Set\n",
      "Age column missing values: 177\n",
      "Cabin column missing values: 687\n",
      "Embarked column missing values: 2\n",
      "\n",
      "\n",
      "Titanic Test Set\n",
      "Age column missing values: 86\n",
      "Fare column missing values: 1\n",
      "Cabin column missing values: 327\n",
      "\n",
      "\n"
     ]
    }
   ],
   "source": [
    "t_train_orig = pd.read_csv(\"kaggle/input/titanic/train.csv\")\n",
    "t_train_orig.name = \"Titanic Training Set\"\n",
    "t_test_orig = pd.read_csv(\"kaggle/input/titanic/test.csv\")\n",
    "t_test_orig.name = \"Titanic Test Set\"\n",
    "\n",
    "def display_missing(df):    \n",
    "    for col in df.columns.tolist(): \n",
    "        if df[col].isnull().sum() > 0:\n",
    "            print('{} column missing values: {}'.format(col, df[col].isnull().sum()))\n",
    "    print('\\n')\n",
    "\n",
    "dfs = [t_train_orig, t_test_orig]\n",
    "\n",
    "for df in dfs:\n",
    "    print('{}'.format(df.name))\n",
    "    display_missing(df)"
   ]
  },
  {
   "cell_type": "markdown",
   "metadata": {},
   "source": [
    "###  Women were much more likely to survive than men"
   ]
  },
  {
   "cell_type": "code",
   "execution_count": 4,
   "metadata": {
    "pycharm": {
     "is_executing": false,
     "name": "#%%\n"
    }
   },
   "outputs": [
    {
     "data": {
      "text/plain": [
       "<matplotlib.axes._subplots.AxesSubplot at 0x114ec4a58>"
      ]
     },
     "execution_count": 4,
     "metadata": {},
     "output_type": "execute_result"
    }
   ],
   "source": [
    "t_train_orig['Died']= t_train_orig['Survived'].map(lambda survived: 0 if survived == 1 else 1)\n",
    "t_train_orig.groupby('Sex').agg('sum')[['Survived', 'Died']].plot(kind='bar', stacked='true')"
   ]
  },
  {
   "cell_type": "markdown",
   "metadata": {},
   "source": [
    "### There's a correlation between ticket price and the likelihood of survival"
   ]
  },
  {
   "cell_type": "code",
   "execution_count": 5,
   "metadata": {
    "pycharm": {
     "is_executing": false,
     "name": "#%%\n"
    }
   },
   "outputs": [
    {
     "data": {
      "text/plain": [
       "<matplotlib.legend.Legend at 0x11703edd8>"
      ]
     },
     "execution_count": 5,
     "metadata": {},
     "output_type": "execute_result"
    },
    {
     "data": {
      "image/png": "[encoded data removed]",
      "text/plain": [
       "<Figure size 432x288 with 1 Axes>"
      ]
     },
     "metadata": {
      "needs_background": "light"
     },
     "output_type": "display_data"
    }
   ],
   "source": [
    "import matplotlib.pyplot as plt\n",
    "t = t_train_orig\n",
    "fare_survived =t[t['Survived'] == 1]['Fare'] \n",
    "fare_died = t[t['Survived'] == 0]['Fare'] \n",
    "plt.hist([fare_survived, fare_died], stacked=True, color = ['g', 'r'], \n",
    "         bins = 25, label=['Survived', 'Died'])\n",
    "plt.xlabel('fare')\n",
    "plt.ylabel('Number of passengers')\n",
    "plt.legend()"
   ]
  },
  {
   "cell_type": "markdown",
   "metadata": {},
   "source": [
    "### Survival  is correlated best with class and fare\n",
    "so we can fill in nulls with more representative values"
   ]
  },
  {
   "cell_type": "code",
   "execution_count": 6,
   "metadata": {
    "pycharm": {
     "is_executing": false
    },
    "scrolled": true
   },
   "outputs": [
    {
     "data": {
      "text/plain": [
       "<matplotlib.axes._subplots.AxesSubplot at 0x117128ef0>"
      ]
     },
     "execution_count": 6,
     "metadata": {},
     "output_type": "execute_result"
    },
    {
     "data": {
      "image/png": "[encoded data removed]",
      "text/plain": [
       "<Figure size 432x288 with 1 Axes>"
      ]
     },
     "metadata": {
      "needs_background": "light"
     },
     "output_type": "display_data"
    }
   ],
   "source": [
    "t_train_corr = t_train_orig.corr().abs().unstack().sort_values(kind=\"quicksort\", ascending=False).reset_index()\n",
    "t_train_corr.rename(columns={\"level_0\": \"Feature 1\", \"level_1\": \"Feature 2\", 0: 'Correlation Coefficient'}, inplace=True)\n",
    "\n",
    "groups = t_train_corr[(0.1 < t_train_corr[\"Correlation Coefficient\"]) & (t_train_corr[\"Correlation Coefficient\"] < .85)].groupby('Feature 1')\n",
    "groups.get_group('Survived')\n",
    "\n",
    "t_train_orig.groupby('Pclass').agg('sum')[['Survived', 'Died']].plot(kind='bar', stacked='true')"
   ]
  },
  {
   "cell_type": "markdown",
   "metadata": {
    "pycharm": {
     "name": "#%% md\n"
    }
   },
   "source": [
    "### See what  Age is correlated with best\n",
    "so we can fill in nulls with more representative values"
   ]
  },
  {
   "cell_type": "code",
   "execution_count": 7,
   "metadata": {
    "pycharm": {
     "is_executing": false
    }
   },
   "outputs": [
    {
     "data": {
      "text/html": [
       "<div>\n",
       "<style scoped>\n",
       "    .dataframe tbody tr th:only-of-type {\n",
       "        vertical-align: middle;\n",
       "    }\n",
       "\n",
       "    .dataframe tbody tr th {\n",
       "        vertical-align: top;\n",
       "    }\n",
       "\n",
       "    .dataframe thead th {\n",
       "        text-align: right;\n",
       "    }\n",
       "</style>\n",
       "<table border=\"1\" class=\"dataframe\">\n",
       "  <thead>\n",
       "    <tr style=\"text-align: right;\">\n",
       "      <th></th>\n",
       "      <th>Feature 1</th>\n",
       "      <th>Feature 2</th>\n",
       "      <th>Correlation Coefficient</th>\n",
       "    </tr>\n",
       "  </thead>\n",
       "  <tbody>\n",
       "    <tr>\n",
       "      <th>15</th>\n",
       "      <td>Age</td>\n",
       "      <td>Pclass</td>\n",
       "      <td>0.369226</td>\n",
       "    </tr>\n",
       "    <tr>\n",
       "      <th>20</th>\n",
       "      <td>Age</td>\n",
       "      <td>SibSp</td>\n",
       "      <td>0.308247</td>\n",
       "    </tr>\n",
       "    <tr>\n",
       "      <th>28</th>\n",
       "      <td>Age</td>\n",
       "      <td>Parch</td>\n",
       "      <td>0.189119</td>\n",
       "    </tr>\n",
       "  </tbody>\n",
       "</table>\n",
       "</div>"
      ],
      "text/plain": [
       "   Feature 1 Feature 2  Correlation Coefficient\n",
       "15       Age    Pclass                 0.369226\n",
       "20       Age     SibSp                 0.308247\n",
       "28       Age     Parch                 0.189119"
      ]
     },
     "execution_count": 7,
     "metadata": {},
     "output_type": "execute_result"
    }
   ],
   "source": [
    "groups.get_group('Age')"
   ]
  },
  {
   "cell_type": "markdown",
   "metadata": {},
   "source": [
    "### Sample training data"
   ]
  },
  {
   "cell_type": "code",
   "execution_count": 8,
   "metadata": {
    "pycharm": {
     "is_executing": false
    },
    "scrolled": true
   },
   "outputs": [
    {
     "data": {
      "text/html": [
       "<div>\n",
       "<style scoped>\n",
       "    .dataframe tbody tr th:only-of-type {\n",
       "        vertical-align: middle;\n",
       "    }\n",
       "\n",
       "    .dataframe tbody tr th {\n",
       "        vertical-align: top;\n",
       "    }\n",
       "\n",
       "    .dataframe thead th {\n",
       "        text-align: right;\n",
       "    }\n",
       "</style>\n",
       "<table border=\"1\" class=\"dataframe\">\n",
       "  <thead>\n",
       "    <tr style=\"text-align: right;\">\n",
       "      <th></th>\n",
       "      <th>PassengerId</th>\n",
       "      <th>Survived</th>\n",
       "      <th>Pclass</th>\n",
       "      <th>Name</th>\n",
       "      <th>Sex</th>\n",
       "      <th>Age</th>\n",
       "      <th>SibSp</th>\n",
       "      <th>Parch</th>\n",
       "      <th>Ticket</th>\n",
       "      <th>Fare</th>\n",
       "      <th>Cabin</th>\n",
       "      <th>Embarked</th>\n",
       "      <th>Died</th>\n",
       "    </tr>\n",
       "  </thead>\n",
       "  <tbody>\n",
       "    <tr>\n",
       "      <th>642</th>\n",
       "      <td>643</td>\n",
       "      <td>0</td>\n",
       "      <td>3</td>\n",
       "      <td>Skoog, Miss. Margit Elizabeth</td>\n",
       "      <td>female</td>\n",
       "      <td>2.0</td>\n",
       "      <td>3</td>\n",
       "      <td>2</td>\n",
       "      <td>347088</td>\n",
       "      <td>27.9000</td>\n",
       "      <td>NaN</td>\n",
       "      <td>S</td>\n",
       "      <td>1</td>\n",
       "    </tr>\n",
       "    <tr>\n",
       "      <th>753</th>\n",
       "      <td>754</td>\n",
       "      <td>0</td>\n",
       "      <td>3</td>\n",
       "      <td>Jonkoff, Mr. Lalio</td>\n",
       "      <td>male</td>\n",
       "      <td>23.0</td>\n",
       "      <td>0</td>\n",
       "      <td>0</td>\n",
       "      <td>349204</td>\n",
       "      <td>7.8958</td>\n",
       "      <td>NaN</td>\n",
       "      <td>S</td>\n",
       "      <td>1</td>\n",
       "    </tr>\n",
       "    <tr>\n",
       "      <th>84</th>\n",
       "      <td>85</td>\n",
       "      <td>1</td>\n",
       "      <td>2</td>\n",
       "      <td>Ilett, Miss. Bertha</td>\n",
       "      <td>female</td>\n",
       "      <td>17.0</td>\n",
       "      <td>0</td>\n",
       "      <td>0</td>\n",
       "      <td>SO/C 14885</td>\n",
       "      <td>10.5000</td>\n",
       "      <td>NaN</td>\n",
       "      <td>S</td>\n",
       "      <td>0</td>\n",
       "    </tr>\n",
       "    <tr>\n",
       "      <th>65</th>\n",
       "      <td>66</td>\n",
       "      <td>1</td>\n",
       "      <td>3</td>\n",
       "      <td>Moubarek, Master. Gerios</td>\n",
       "      <td>male</td>\n",
       "      <td>NaN</td>\n",
       "      <td>1</td>\n",
       "      <td>1</td>\n",
       "      <td>2661</td>\n",
       "      <td>15.2458</td>\n",
       "      <td>NaN</td>\n",
       "      <td>C</td>\n",
       "      <td>0</td>\n",
       "    </tr>\n",
       "    <tr>\n",
       "      <th>174</th>\n",
       "      <td>175</td>\n",
       "      <td>0</td>\n",
       "      <td>1</td>\n",
       "      <td>Smith, Mr. James Clinch</td>\n",
       "      <td>male</td>\n",
       "      <td>56.0</td>\n",
       "      <td>0</td>\n",
       "      <td>0</td>\n",
       "      <td>17764</td>\n",
       "      <td>30.6958</td>\n",
       "      <td>A7</td>\n",
       "      <td>C</td>\n",
       "      <td>1</td>\n",
       "    </tr>\n",
       "    <tr>\n",
       "      <th>44</th>\n",
       "      <td>45</td>\n",
       "      <td>1</td>\n",
       "      <td>3</td>\n",
       "      <td>Devaney, Miss. Margaret Delia</td>\n",
       "      <td>female</td>\n",
       "      <td>19.0</td>\n",
       "      <td>0</td>\n",
       "      <td>0</td>\n",
       "      <td>330958</td>\n",
       "      <td>7.8792</td>\n",
       "      <td>NaN</td>\n",
       "      <td>Q</td>\n",
       "      <td>0</td>\n",
       "    </tr>\n",
       "    <tr>\n",
       "      <th>874</th>\n",
       "      <td>875</td>\n",
       "      <td>1</td>\n",
       "      <td>2</td>\n",
       "      <td>Abelson, Mrs. Samuel (Hannah Wizosky)</td>\n",
       "      <td>female</td>\n",
       "      <td>28.0</td>\n",
       "      <td>1</td>\n",
       "      <td>0</td>\n",
       "      <td>P/PP 3381</td>\n",
       "      <td>24.0000</td>\n",
       "      <td>NaN</td>\n",
       "      <td>C</td>\n",
       "      <td>0</td>\n",
       "    </tr>\n",
       "    <tr>\n",
       "      <th>448</th>\n",
       "      <td>449</td>\n",
       "      <td>1</td>\n",
       "      <td>3</td>\n",
       "      <td>Baclini, Miss. Marie Catherine</td>\n",
       "      <td>female</td>\n",
       "      <td>5.0</td>\n",
       "      <td>2</td>\n",
       "      <td>1</td>\n",
       "      <td>2666</td>\n",
       "      <td>19.2583</td>\n",
       "      <td>NaN</td>\n",
       "      <td>C</td>\n",
       "      <td>0</td>\n",
       "    </tr>\n",
       "  </tbody>\n",
       "</table>\n",
       "</div>"
      ],
      "text/plain": [
       "     PassengerId  Survived  Pclass                                   Name  \\\n",
       "642          643         0       3          Skoog, Miss. Margit Elizabeth   \n",
       "753          754         0       3                     Jonkoff, Mr. Lalio   \n",
       "84            85         1       2                    Ilett, Miss. Bertha   \n",
       "65            66         1       3               Moubarek, Master. Gerios   \n",
       "174          175         0       1                Smith, Mr. James Clinch   \n",
       "44            45         1       3          Devaney, Miss. Margaret Delia   \n",
       "874          875         1       2  Abelson, Mrs. Samuel (Hannah Wizosky)   \n",
       "448          449         1       3         Baclini, Miss. Marie Catherine   \n",
       "\n",
       "        Sex   Age  SibSp  Parch      Ticket     Fare Cabin Embarked  Died  \n",
       "642  female   2.0      3      2      347088  27.9000   NaN        S     1  \n",
       "753    male  23.0      0      0      349204   7.8958   NaN        S     1  \n",
       "84   female  17.0      0      0  SO/C 14885  10.5000   NaN        S     0  \n",
       "65     male   NaN      1      1        2661  15.2458   NaN        C     0  \n",
       "174    male  56.0      0      0       17764  30.6958    A7        C     1  \n",
       "44   female  19.0      0      0      330958   7.8792   NaN        Q     0  \n",
       "874  female  28.0      1      0   P/PP 3381  24.0000   NaN        C     0  \n",
       "448  female   5.0      2      1        2666  19.2583   NaN        C     0  "
      ]
     },
     "execution_count": 8,
     "metadata": {},
     "output_type": "execute_result"
    }
   ],
   "source": [
    "t_train_orig.sample(8)"
   ]
  },
  {
   "cell_type": "markdown",
   "metadata": {},
   "source": [
    "## Feature exploration\n",
    "\n",
    "Here are some initial ideas:\n",
    "* Pclass (1 > 2 > 3)\n",
    "* Fare ($$ > $)\n",
    "* Sex (female > male)\n",
    "* CabinPresent (1 > 0)\n",
    "* Is child over 12 (1 > 0)\n",
    "\n",
    "### TODO\n",
    "\n",
    "* Use this [[https://scikit-learn.org/stable/modules/classes.html#module-sklearn.preprocessing]] to covert features to numeric values rather than doing it by hand."
   ]
  },
  {
   "cell_type": "code",
   "execution_count": 9,
   "metadata": {
    "pycharm": {
     "is_executing": false
    }
   },
   "outputs": [
    {
     "data": {
      "text/html": [
       "<div>\n",
       "<style scoped>\n",
       "    .dataframe tbody tr th:only-of-type {\n",
       "        vertical-align: middle;\n",
       "    }\n",
       "\n",
       "    .dataframe tbody tr th {\n",
       "        vertical-align: top;\n",
       "    }\n",
       "\n",
       "    .dataframe thead th {\n",
       "        text-align: right;\n",
       "    }\n",
       "</style>\n",
       "<table border=\"1\" class=\"dataframe\">\n",
       "  <thead>\n",
       "    <tr style=\"text-align: right;\">\n",
       "      <th></th>\n",
       "      <th>FareAdjusted</th>\n",
       "      <th>Pclass</th>\n",
       "      <th>SexNumeric</th>\n",
       "      <th>TitleNumeric</th>\n",
       "    </tr>\n",
       "  </thead>\n",
       "  <tbody>\n",
       "    <tr>\n",
       "      <th>840</th>\n",
       "      <td>7.9250</td>\n",
       "      <td>3</td>\n",
       "      <td>0</td>\n",
       "      <td>1</td>\n",
       "    </tr>\n",
       "    <tr>\n",
       "      <th>761</th>\n",
       "      <td>7.1250</td>\n",
       "      <td>3</td>\n",
       "      <td>0</td>\n",
       "      <td>1</td>\n",
       "    </tr>\n",
       "    <tr>\n",
       "      <th>338</th>\n",
       "      <td>8.0500</td>\n",
       "      <td>3</td>\n",
       "      <td>0</td>\n",
       "      <td>1</td>\n",
       "    </tr>\n",
       "    <tr>\n",
       "      <th>546</th>\n",
       "      <td>26.0000</td>\n",
       "      <td>2</td>\n",
       "      <td>1</td>\n",
       "      <td>4</td>\n",
       "    </tr>\n",
       "    <tr>\n",
       "      <th>795</th>\n",
       "      <td>13.0000</td>\n",
       "      <td>2</td>\n",
       "      <td>0</td>\n",
       "      <td>1</td>\n",
       "    </tr>\n",
       "    <tr>\n",
       "      <th>793</th>\n",
       "      <td>30.6958</td>\n",
       "      <td>1</td>\n",
       "      <td>0</td>\n",
       "      <td>1</td>\n",
       "    </tr>\n",
       "    <tr>\n",
       "      <th>705</th>\n",
       "      <td>26.0000</td>\n",
       "      <td>2</td>\n",
       "      <td>0</td>\n",
       "      <td>1</td>\n",
       "    </tr>\n",
       "    <tr>\n",
       "      <th>401</th>\n",
       "      <td>8.0500</td>\n",
       "      <td>3</td>\n",
       "      <td>0</td>\n",
       "      <td>1</td>\n",
       "    </tr>\n",
       "    <tr>\n",
       "      <th>542</th>\n",
       "      <td>31.2750</td>\n",
       "      <td>3</td>\n",
       "      <td>1</td>\n",
       "      <td>6</td>\n",
       "    </tr>\n",
       "    <tr>\n",
       "      <th>864</th>\n",
       "      <td>13.0000</td>\n",
       "      <td>2</td>\n",
       "      <td>0</td>\n",
       "      <td>1</td>\n",
       "    </tr>\n",
       "    <tr>\n",
       "      <th>93</th>\n",
       "      <td>20.5750</td>\n",
       "      <td>3</td>\n",
       "      <td>0</td>\n",
       "      <td>1</td>\n",
       "    </tr>\n",
       "    <tr>\n",
       "      <th>389</th>\n",
       "      <td>12.0000</td>\n",
       "      <td>2</td>\n",
       "      <td>1</td>\n",
       "      <td>6</td>\n",
       "    </tr>\n",
       "  </tbody>\n",
       "</table>\n",
       "</div>"
      ],
      "text/plain": [
       "     FareAdjusted  Pclass  SexNumeric  TitleNumeric\n",
       "840        7.9250       3           0             1\n",
       "761        7.1250       3           0             1\n",
       "338        8.0500       3           0             1\n",
       "546       26.0000       2           1             4\n",
       "795       13.0000       2           0             1\n",
       "793       30.6958       1           0             1\n",
       "705       26.0000       2           0             1\n",
       "401        8.0500       3           0             1\n",
       "542       31.2750       3           1             6\n",
       "864       13.0000       2           0             1\n",
       "93        20.5750       3           0             1\n",
       "389       12.0000       2           1             6"
      ]
     },
     "execution_count": 9,
     "metadata": {},
     "output_type": "execute_result"
    }
   ],
   "source": [
    "import math\n",
    "from sklearn import preprocessing\n",
    "\n",
    "t_train = t_train_orig\n",
    "\n",
    "# sex to numeric\n",
    "t_train['SexNumeric'] = np.where(t_train['Sex'] == \"male\", 0, 1)\n",
    "\n",
    "# fill in missing fare with median fare for passengers in the same class\n",
    "median_fares = t_train.groupby('Pclass')['Fare'].median()\n",
    "def fare_for_class(row):\n",
    "    return median_fares[row['Pclass']] if row['Fare'] == 0 else row['Fare']\n",
    "t_train['FareAdjusted'] = t_train.apply(fare_for_class,axis=1)\n",
    "\n",
    "# TODO: update AgeAdjusted to take into account title to refine the likely age, so that a child with\n",
    "# missing age doesn't get classified as an adult.. a male child should be much more likely to survive\n",
    "# so that should help\n",
    "\n",
    "# extract titles\n",
    "#get_index = lambda x, xs: [i for (y, i) in zip(xs, range(len(xs))) if x == y][0]\n",
    "\n",
    "t_train['Title'] = t_train_orig['Name'].map(lambda name: [title for title in name.split(' ') if '.' in title][0])\n",
    "#all_titles = t_train['Title'].unique()\n",
    "titles_esteemed_first = {\n",
    "    'Countess.': 17,\n",
    "    'Lady.': 16,\n",
    "    'Rev.': 15,\n",
    "    'Jonkheer.': 14,\n",
    "    'Master.': 13,\n",
    "    'Major.' : 12,\n",
    "    'Don.': 11,\n",
    "    'Dr.' : 10,\n",
    "    'Col.': 9,\n",
    "    'Capt.': 8,\n",
    "    'Mlle.': 7,\n",
    "    'Miss.': 6,\n",
    "    'Ms.': 5,\n",
    "    'Mrs.': 4,\n",
    "    'Mme.': 3,\n",
    "    'Sir.': 2,\n",
    "    'Mr.': 1\n",
    "}\n",
    "\n",
    "t_train['TitleNumeric'] = t_train['Title'].map(lambda title: titles_esteemed_first[title])\n",
    "\n",
    "feature_cols = ['FareAdjusted', 'Pclass', 'SexNumeric', 'TitleNumeric']\n",
    "t_train[feature_cols].sample(12)\n",
    "\n"
   ]
  },
  {
   "cell_type": "markdown",
   "metadata": {},
   "source": [
    "## Using a Decision Tree Classifier"
   ]
  },
  {
   "cell_type": "code",
   "execution_count": 10,
   "metadata": {
    "pycharm": {
     "is_executing": false
    }
   },
   "outputs": [
    {
     "name": "stdout",
     "output_type": "stream",
     "text": [
      "Accuracy: 0.8208955223880597\n"
     ]
    }
   ],
   "source": [
    "import pandas as pd\n",
    "\n",
    "from sklearn.tree import DecisionTreeClassifier # Import Decision Tree Classifier\n",
    "from sklearn.model_selection import train_test_split # Import train_test_split function\n",
    "from sklearn import metrics #Import scikit-learn metrics module for accuracy calculation\n",
    "\n",
    "X_dt = t_train[feature_cols]\n",
    "y_dt = t_train.Survived\n",
    "\n",
    "X_train, X_test, y_train, y_test = train_test_split(X_dt, y_dt, test_size=0.3, random_state=1) # 70% training and 30% test\n",
    "\n",
    "clf = DecisionTreeClassifier()\n",
    "clf = clf.fit(X_train,y_train)\n",
    "y_pred = clf.predict(X_test)\n",
    "\n",
    "# Model Accuracy, how often is the classifier correct?\n",
    "print(\"Accuracy:\",metrics.accuracy_score(y_test, y_pred))"
   ]
  },
  {
   "cell_type": "markdown",
   "metadata": {},
   "source": [
    "## Using a Random Forrest Classifier"
   ]
  },
  {
   "cell_type": "markdown",
   "metadata": {},
   "source": [
    "### Additional features"
   ]
  },
  {
   "cell_type": "code",
   "execution_count": 11,
   "metadata": {
    "pycharm": {
     "is_executing": false
    }
   },
   "outputs": [
    {
     "data": {
      "text/plain": [
       "<matplotlib.axes._subplots.AxesSubplot at 0x123b07a90>"
      ]
     },
     "execution_count": 11,
     "metadata": {},
     "output_type": "execute_result"
    },
    {
     "data": {
      "image/png": "[encoded data removed]",
      "text/plain": [
       "<Figure size 1440x360 with 2 Axes>"
      ]
     },
     "metadata": {
      "needs_background": "light"
     },
     "output_type": "display_data"
    }
   ],
   "source": [
    "t_train['Deck'] = \\\n",
    "    t_train['Cabin'].map(lambda cabin: cabin[0] if (type(cabin) == str) else \"U\")\n",
    "\n",
    "f, (ax1, ax2) = plt.subplots(1, 2, False, figsize=(20,5))\n",
    "\n",
    "# simply having s cabin assigned increases chances of survival\n",
    "t_train['CabinGoodNumeric'] =  t_train['Deck'].map(lambda letter: 1 if (letter in \"BDEG\") else 0)\n",
    "t_train_orig.groupby('CabinGoodNumeric').agg('sum')[['Survived', 'Died']].plot(kind='bar', stacked='true', ax=ax1)\n",
    "\n",
    "# correlate deck with survival rate for assigned cabins\n",
    "import string\n",
    "t_train_orig[t_train_orig['Deck'] != 'U'].groupby('Deck').agg('sum')[['Survived', 'Died']].plot(kind='bar', stacked='true', ax=ax2)\n",
    "\n",
    "# CabinGoodNumeric doesn't yet seem to inprove things.. can it be made to be useful?\n",
    "# why is it not a very important feature according to random forrest.. is it because most people don't have a cabin?"
   ]
  },
  {
   "cell_type": "code",
   "execution_count": 12,
   "metadata": {},
   "outputs": [
    {
     "data": {
      "text/plain": [
       "{'bodies': [<matplotlib.collections.PolyCollection at 0x124149c50>],\n",
       " 'cmaxes': <matplotlib.collections.LineCollection at 0x124137cf8>,\n",
       " 'cmins': <matplotlib.collections.LineCollection at 0x124149eb8>,\n",
       " 'cbars': <matplotlib.collections.LineCollection at 0x124157080>}"
      ]
     },
     "execution_count": 12,
     "metadata": {},
     "output_type": "execute_result"
    },
    {
     "data": {
      "image/png": "[encoded data removed]",
      "text/plain": [
       "<Figure size 1296x432 with 4 Axes>"
      ]
     },
     "metadata": {
      "needs_background": "light"
     },
     "output_type": "display_data"
    },
    {
     "data": {
      "image/png": "[encoded data removed]",
      "text/plain": [
       "<Figure size 1296x432 with 4 Axes>"
      ]
     },
     "metadata": {
      "needs_background": "light"
     },
     "output_type": "display_data"
    }
   ],
   "source": [
    "f, ax = plt.subplots(1, 4, sharex='col', figsize=(18,6))\n",
    "age_data = t_train[['Age', 'SexNumeric', 'Survived']].dropna()\n",
    "ax[0].set_xlabel('All people')\n",
    "ax[0].violinplot(dataset=age_data['Age'])\n",
    "ax[1].set_xlabel('Survived')\n",
    "ax[1].violinplot(dataset=age_data[age_data['Survived'] == 1]['Age'])\n",
    "ax[2].set_xlabel('Survived Women')\n",
    "ax[2].violinplot(dataset=age_data[(age_data['Survived'] == 1) & (age_data['SexNumeric'] == 1)]['Age'])\n",
    "ax[3].set_xlabel('Survived Men')\n",
    "ax[3].violinplot(dataset=age_data[(age_data['Survived'] == 1) & (age_data['SexNumeric'] == 0)]['Age'])\n",
    "\n",
    "f2, ax2 = plt.subplots(1, 4, sharex='col', figsize=(18,6))\n",
    "ax2[0].set_xlabel('All people')\n",
    "ax2[0].violinplot(dataset=age_data['Age'])\n",
    "ax2[1].set_xlabel('Died')\n",
    "ax2[1].violinplot(dataset=age_data[age_data['Survived'] == 0]['Age'])\n",
    "ax2[2].set_xlabel('Died Women')\n",
    "ax2[2].violinplot(dataset=age_data[(age_data['Survived'] == 0) & (age_data['SexNumeric'] == 1)]['Age'])\n",
    "ax2[3].set_xlabel('Died Men')\n",
    "ax2[3].violinplot(dataset=age_data[(age_data['Survived'] == 0) & (age_data['SexNumeric'] == 0)]['Age'])"
   ]
  },
  {
   "cell_type": "markdown",
   "metadata": {},
   "source": [
    "### Using OneHotEncoding"
   ]
  },
  {
   "cell_type": "code",
   "execution_count": 13,
   "metadata": {},
   "outputs": [
    {
     "data": {
      "text/html": [
       "<div>\n",
       "<style scoped>\n",
       "    .dataframe tbody tr th:only-of-type {\n",
       "        vertical-align: middle;\n",
       "    }\n",
       "\n",
       "    .dataframe tbody tr th {\n",
       "        vertical-align: top;\n",
       "    }\n",
       "\n",
       "    .dataframe thead th {\n",
       "        text-align: right;\n",
       "    }\n",
       "</style>\n",
       "<table border=\"1\" class=\"dataframe\">\n",
       "  <thead>\n",
       "    <tr style=\"text-align: right;\">\n",
       "      <th></th>\n",
       "      <th>FareAdjusted</th>\n",
       "      <th>Pclass</th>\n",
       "      <th>SexNumeric</th>\n",
       "      <th>Title_Dr.</th>\n",
       "      <th>Title_Master.</th>\n",
       "      <th>Title_Miss.</th>\n",
       "      <th>Title_Mr.</th>\n",
       "      <th>Title_Mrs.</th>\n",
       "      <th>Title_Rev.</th>\n",
       "      <th>Deck_A</th>\n",
       "      <th>Deck_B</th>\n",
       "      <th>Deck_C</th>\n",
       "      <th>Deck_D</th>\n",
       "      <th>Deck_E</th>\n",
       "      <th>Deck_F</th>\n",
       "      <th>Deck_G</th>\n",
       "      <th>Deck_U</th>\n",
       "    </tr>\n",
       "  </thead>\n",
       "  <tbody>\n",
       "    <tr>\n",
       "      <th>0</th>\n",
       "      <td>7.2500</td>\n",
       "      <td>3</td>\n",
       "      <td>0</td>\n",
       "      <td>0</td>\n",
       "      <td>0</td>\n",
       "      <td>0</td>\n",
       "      <td>1</td>\n",
       "      <td>0</td>\n",
       "      <td>0</td>\n",
       "      <td>0</td>\n",
       "      <td>0</td>\n",
       "      <td>0</td>\n",
       "      <td>0</td>\n",
       "      <td>0</td>\n",
       "      <td>0</td>\n",
       "      <td>0</td>\n",
       "      <td>1</td>\n",
       "    </tr>\n",
       "    <tr>\n",
       "      <th>1</th>\n",
       "      <td>71.2833</td>\n",
       "      <td>1</td>\n",
       "      <td>1</td>\n",
       "      <td>0</td>\n",
       "      <td>0</td>\n",
       "      <td>0</td>\n",
       "      <td>0</td>\n",
       "      <td>1</td>\n",
       "      <td>0</td>\n",
       "      <td>0</td>\n",
       "      <td>0</td>\n",
       "      <td>1</td>\n",
       "      <td>0</td>\n",
       "      <td>0</td>\n",
       "      <td>0</td>\n",
       "      <td>0</td>\n",
       "      <td>0</td>\n",
       "    </tr>\n",
       "    <tr>\n",
       "      <th>2</th>\n",
       "      <td>7.9250</td>\n",
       "      <td>3</td>\n",
       "      <td>1</td>\n",
       "      <td>0</td>\n",
       "      <td>0</td>\n",
       "      <td>1</td>\n",
       "      <td>0</td>\n",
       "      <td>0</td>\n",
       "      <td>0</td>\n",
       "      <td>0</td>\n",
       "      <td>0</td>\n",
       "      <td>0</td>\n",
       "      <td>0</td>\n",
       "      <td>0</td>\n",
       "      <td>0</td>\n",
       "      <td>0</td>\n",
       "      <td>1</td>\n",
       "    </tr>\n",
       "    <tr>\n",
       "      <th>3</th>\n",
       "      <td>53.1000</td>\n",
       "      <td>1</td>\n",
       "      <td>1</td>\n",
       "      <td>0</td>\n",
       "      <td>0</td>\n",
       "      <td>0</td>\n",
       "      <td>0</td>\n",
       "      <td>1</td>\n",
       "      <td>0</td>\n",
       "      <td>0</td>\n",
       "      <td>0</td>\n",
       "      <td>1</td>\n",
       "      <td>0</td>\n",
       "      <td>0</td>\n",
       "      <td>0</td>\n",
       "      <td>0</td>\n",
       "      <td>0</td>\n",
       "    </tr>\n",
       "    <tr>\n",
       "      <th>4</th>\n",
       "      <td>8.0500</td>\n",
       "      <td>3</td>\n",
       "      <td>0</td>\n",
       "      <td>0</td>\n",
       "      <td>0</td>\n",
       "      <td>0</td>\n",
       "      <td>1</td>\n",
       "      <td>0</td>\n",
       "      <td>0</td>\n",
       "      <td>0</td>\n",
       "      <td>0</td>\n",
       "      <td>0</td>\n",
       "      <td>0</td>\n",
       "      <td>0</td>\n",
       "      <td>0</td>\n",
       "      <td>0</td>\n",
       "      <td>1</td>\n",
       "    </tr>\n",
       "    <tr>\n",
       "      <th>...</th>\n",
       "      <td>...</td>\n",
       "      <td>...</td>\n",
       "      <td>...</td>\n",
       "      <td>...</td>\n",
       "      <td>...</td>\n",
       "      <td>...</td>\n",
       "      <td>...</td>\n",
       "      <td>...</td>\n",
       "      <td>...</td>\n",
       "      <td>...</td>\n",
       "      <td>...</td>\n",
       "      <td>...</td>\n",
       "      <td>...</td>\n",
       "      <td>...</td>\n",
       "      <td>...</td>\n",
       "      <td>...</td>\n",
       "      <td>...</td>\n",
       "    </tr>\n",
       "    <tr>\n",
       "      <th>886</th>\n",
       "      <td>13.0000</td>\n",
       "      <td>2</td>\n",
       "      <td>0</td>\n",
       "      <td>0</td>\n",
       "      <td>0</td>\n",
       "      <td>0</td>\n",
       "      <td>0</td>\n",
       "      <td>0</td>\n",
       "      <td>1</td>\n",
       "      <td>0</td>\n",
       "      <td>0</td>\n",
       "      <td>0</td>\n",
       "      <td>0</td>\n",
       "      <td>0</td>\n",
       "      <td>0</td>\n",
       "      <td>0</td>\n",
       "      <td>1</td>\n",
       "    </tr>\n",
       "    <tr>\n",
       "      <th>887</th>\n",
       "      <td>30.0000</td>\n",
       "      <td>1</td>\n",
       "      <td>1</td>\n",
       "      <td>0</td>\n",
       "      <td>0</td>\n",
       "      <td>1</td>\n",
       "      <td>0</td>\n",
       "      <td>0</td>\n",
       "      <td>0</td>\n",
       "      <td>0</td>\n",
       "      <td>1</td>\n",
       "      <td>0</td>\n",
       "      <td>0</td>\n",
       "      <td>0</td>\n",
       "      <td>0</td>\n",
       "      <td>0</td>\n",
       "      <td>0</td>\n",
       "    </tr>\n",
       "    <tr>\n",
       "      <th>888</th>\n",
       "      <td>23.4500</td>\n",
       "      <td>3</td>\n",
       "      <td>1</td>\n",
       "      <td>0</td>\n",
       "      <td>0</td>\n",
       "      <td>1</td>\n",
       "      <td>0</td>\n",
       "      <td>0</td>\n",
       "      <td>0</td>\n",
       "      <td>0</td>\n",
       "      <td>0</td>\n",
       "      <td>0</td>\n",
       "      <td>0</td>\n",
       "      <td>0</td>\n",
       "      <td>0</td>\n",
       "      <td>0</td>\n",
       "      <td>1</td>\n",
       "    </tr>\n",
       "    <tr>\n",
       "      <th>889</th>\n",
       "      <td>30.0000</td>\n",
       "      <td>1</td>\n",
       "      <td>0</td>\n",
       "      <td>0</td>\n",
       "      <td>0</td>\n",
       "      <td>0</td>\n",
       "      <td>1</td>\n",
       "      <td>0</td>\n",
       "      <td>0</td>\n",
       "      <td>0</td>\n",
       "      <td>0</td>\n",
       "      <td>1</td>\n",
       "      <td>0</td>\n",
       "      <td>0</td>\n",
       "      <td>0</td>\n",
       "      <td>0</td>\n",
       "      <td>0</td>\n",
       "    </tr>\n",
       "    <tr>\n",
       "      <th>890</th>\n",
       "      <td>7.7500</td>\n",
       "      <td>3</td>\n",
       "      <td>0</td>\n",
       "      <td>0</td>\n",
       "      <td>0</td>\n",
       "      <td>0</td>\n",
       "      <td>1</td>\n",
       "      <td>0</td>\n",
       "      <td>0</td>\n",
       "      <td>0</td>\n",
       "      <td>0</td>\n",
       "      <td>0</td>\n",
       "      <td>0</td>\n",
       "      <td>0</td>\n",
       "      <td>0</td>\n",
       "      <td>0</td>\n",
       "      <td>1</td>\n",
       "    </tr>\n",
       "  </tbody>\n",
       "</table>\n",
       "<p>891 rows × 17 columns</p>\n",
       "</div>"
      ],
      "text/plain": [
       "     FareAdjusted  Pclass  SexNumeric  Title_Dr.  Title_Master.  Title_Miss.  \\\n",
       "0          7.2500       3           0          0              0            0   \n",
       "1         71.2833       1           1          0              0            0   \n",
       "2          7.9250       3           1          0              0            1   \n",
       "3         53.1000       1           1          0              0            0   \n",
       "4          8.0500       3           0          0              0            0   \n",
       "..            ...     ...         ...        ...            ...          ...   \n",
       "886       13.0000       2           0          0              0            0   \n",
       "887       30.0000       1           1          0              0            1   \n",
       "888       23.4500       3           1          0              0            1   \n",
       "889       30.0000       1           0          0              0            0   \n",
       "890        7.7500       3           0          0              0            0   \n",
       "\n",
       "     Title_Mr.  Title_Mrs.  Title_Rev.  Deck_A  Deck_B  Deck_C  Deck_D  \\\n",
       "0            1           0           0       0       0       0       0   \n",
       "1            0           1           0       0       0       1       0   \n",
       "2            0           0           0       0       0       0       0   \n",
       "3            0           1           0       0       0       1       0   \n",
       "4            1           0           0       0       0       0       0   \n",
       "..         ...         ...         ...     ...     ...     ...     ...   \n",
       "886          0           0           1       0       0       0       0   \n",
       "887          0           0           0       0       1       0       0   \n",
       "888          0           0           0       0       0       0       0   \n",
       "889          1           0           0       0       0       1       0   \n",
       "890          1           0           0       0       0       0       0   \n",
       "\n",
       "     Deck_E  Deck_F  Deck_G  Deck_U  \n",
       "0         0       0       0       1  \n",
       "1         0       0       0       0  \n",
       "2         0       0       0       1  \n",
       "3         0       0       0       0  \n",
       "4         0       0       0       1  \n",
       "..      ...     ...     ...     ...  \n",
       "886       0       0       0       1  \n",
       "887       0       0       0       0  \n",
       "888       0       0       0       1  \n",
       "889       0       0       0       0  \n",
       "890       0       0       0       1  \n",
       "\n",
       "[891 rows x 17 columns]"
      ]
     },
     "execution_count": 13,
     "metadata": {},
     "output_type": "execute_result"
    }
   ],
   "source": [
    "feature_cols_ohe = ['FareAdjusted', 'Pclass', 'SexNumeric', 'Title', 'Deck']\n",
    "X_ohe = t_train[feature_cols_ohe]\n",
    "\n",
    "X_ohe = pd.concat([X_ohe,pd.get_dummies(X_ohe['Title'], prefix='Title')],axis=1).drop('Title', axis=1)\n",
    "X_ohe = pd.concat([X_ohe,pd.get_dummies(X_ohe['Deck'], prefix='Deck')],axis=1).drop('Deck', axis=1)\n",
    "\n",
    "# drop features that got a 0.0000 importance \n",
    "X_ohe = X_ohe.drop(['Title_Countess.', 'Deck_T', 'Title_Ms.', 'Title_Sir.', 'Title_Don.', 'Title_Capt.', 'Title_Col.', 'Title_Mlle.', 'Title_Major.', 'Title_Lady.', 'Title_Jonkheer.', 'Title_Mme.'] \n",
    ", axis=1)\n",
    "X_ohe"
   ]
  },
  {
   "cell_type": "markdown",
   "metadata": {},
   "source": [
    "### apply Random Forrest Classifier to the features\n"
   ]
  },
  {
   "cell_type": "code",
   "execution_count": 14,
   "metadata": {
    "pycharm": {
     "is_executing": false
    }
   },
   "outputs": [
    {
     "name": "stdout",
     "output_type": "stream",
     "text": [
      "feature importance: [2.70008197e-01 1.20540602e-01 1.19237618e-01 2.87911198e-03\n",
      " 3.08990068e-02 5.05082139e-03 3.65770492e-01 7.14198835e-03\n",
      " 1.47969994e-02 1.73531204e-03 5.85485245e-03 5.22736357e-03\n",
      " 3.82622259e-03 1.18672183e-02 6.19776714e-04 9.66509126e-05\n",
      " 3.44477668e-02]\n",
      "score train: 0.8817365269461078\n",
      "score:       0.8340807174887892\n"
     ]
    },
    {
     "data": {
      "text/html": [
       "<div>\n",
       "<style scoped>\n",
       "    .dataframe tbody tr th:only-of-type {\n",
       "        vertical-align: middle;\n",
       "    }\n",
       "\n",
       "    .dataframe tbody tr th {\n",
       "        vertical-align: top;\n",
       "    }\n",
       "\n",
       "    .dataframe thead th {\n",
       "        text-align: right;\n",
       "    }\n",
       "</style>\n",
       "<table border=\"1\" class=\"dataframe\">\n",
       "  <thead>\n",
       "    <tr style=\"text-align: right;\">\n",
       "      <th></th>\n",
       "      <th>importance</th>\n",
       "    </tr>\n",
       "  </thead>\n",
       "  <tbody>\n",
       "    <tr>\n",
       "      <th>Title_Mr.</th>\n",
       "      <td>0.365770</td>\n",
       "    </tr>\n",
       "    <tr>\n",
       "      <th>FareAdjusted</th>\n",
       "      <td>0.270008</td>\n",
       "    </tr>\n",
       "    <tr>\n",
       "      <th>Pclass</th>\n",
       "      <td>0.120541</td>\n",
       "    </tr>\n",
       "    <tr>\n",
       "      <th>SexNumeric</th>\n",
       "      <td>0.119238</td>\n",
       "    </tr>\n",
       "    <tr>\n",
       "      <th>Deck_U</th>\n",
       "      <td>0.034448</td>\n",
       "    </tr>\n",
       "    <tr>\n",
       "      <th>Title_Master.</th>\n",
       "      <td>0.030899</td>\n",
       "    </tr>\n",
       "    <tr>\n",
       "      <th>Title_Rev.</th>\n",
       "      <td>0.014797</td>\n",
       "    </tr>\n",
       "    <tr>\n",
       "      <th>Deck_E</th>\n",
       "      <td>0.011867</td>\n",
       "    </tr>\n",
       "    <tr>\n",
       "      <th>Title_Mrs.</th>\n",
       "      <td>0.007142</td>\n",
       "    </tr>\n",
       "    <tr>\n",
       "      <th>Deck_B</th>\n",
       "      <td>0.005855</td>\n",
       "    </tr>\n",
       "    <tr>\n",
       "      <th>Deck_C</th>\n",
       "      <td>0.005227</td>\n",
       "    </tr>\n",
       "    <tr>\n",
       "      <th>Title_Miss.</th>\n",
       "      <td>0.005051</td>\n",
       "    </tr>\n",
       "    <tr>\n",
       "      <th>Deck_D</th>\n",
       "      <td>0.003826</td>\n",
       "    </tr>\n",
       "    <tr>\n",
       "      <th>Title_Dr.</th>\n",
       "      <td>0.002879</td>\n",
       "    </tr>\n",
       "    <tr>\n",
       "      <th>Deck_A</th>\n",
       "      <td>0.001735</td>\n",
       "    </tr>\n",
       "    <tr>\n",
       "      <th>Deck_F</th>\n",
       "      <td>0.000620</td>\n",
       "    </tr>\n",
       "    <tr>\n",
       "      <th>Deck_G</th>\n",
       "      <td>0.000097</td>\n",
       "    </tr>\n",
       "  </tbody>\n",
       "</table>\n",
       "</div>"
      ],
      "text/plain": [
       "               importance\n",
       "Title_Mr.        0.365770\n",
       "FareAdjusted     0.270008\n",
       "Pclass           0.120541\n",
       "SexNumeric       0.119238\n",
       "Deck_U           0.034448\n",
       "Title_Master.    0.030899\n",
       "Title_Rev.       0.014797\n",
       "Deck_E           0.011867\n",
       "Title_Mrs.       0.007142\n",
       "Deck_B           0.005855\n",
       "Deck_C           0.005227\n",
       "Title_Miss.      0.005051\n",
       "Deck_D           0.003826\n",
       "Title_Dr.        0.002879\n",
       "Deck_A           0.001735\n",
       "Deck_F           0.000620\n",
       "Deck_G           0.000097"
      ]
     },
     "execution_count": 14,
     "metadata": {},
     "output_type": "execute_result"
    }
   ],
   "source": [
    "from sklearn.ensemble import RandomForestClassifier\n",
    "\n",
    "X_re = X_ohe\n",
    "y_re = t_train.Survived\n",
    "\n",
    "X_train, X_test, y_train, y_test = train_test_split(X_re, y_re, test_size=0.25, random_state=1)\n",
    "\n",
    "rfc = RandomForestClassifier(n_estimators=4000,\n",
    "                             min_samples_split=3, min_samples_leaf=3, max_depth=15,\n",
    "                             max_features=0.85, n_jobs=-1)\n",
    "rfc.fit(X_train,y_train) \n",
    "\n",
    "print(f'feature importance: {rfc.feature_importances_}')\n",
    "print(f'score train: {rfc.score(X_train, y_train)}')\n",
    "print(f'score:       {rfc.score(X_test, y_test)}')\n",
    "\n",
    "\n",
    "feature_importances = pd.DataFrame(rfc.feature_importances_,\n",
    "                                   index = X_re.columns,\n",
    "                                    columns=['importance']).sort_values('importance',ascending=False)\n",
    "\n",
    "feature_importances"
   ]
  },
  {
   "cell_type": "markdown",
   "metadata": {},
   "source": [
    "## Using Logistic Regression"
   ]
  },
  {
   "cell_type": "code",
   "execution_count": 15,
   "metadata": {
    "pycharm": {
     "is_executing": false
    },
    "scrolled": true
   },
   "outputs": [
    {
     "name": "stdout",
     "output_type": "stream",
     "text": [
      "probabilty (count = 891\n",
      "[[0.93191471 0.06808529]\n",
      " [0.11022188 0.88977812]\n",
      " [0.40116983 0.59883017]\n",
      " ...\n",
      " [0.40131613 0.59868387]\n",
      " [0.64606079 0.35393921]\n",
      " [0.93191595 0.06808405]]\n",
      "\n",
      "score: 0.8385650224215246\n"
     ]
    }
   ],
   "source": [
    "from sklearn.linear_model import LogisticRegression\n",
    "\n",
    "feature_cols = ['FareAdjusted', 'Pclass', 'SexNumeric', 'TitleNumeric']\n",
    "\n",
    "X_lr = t_train[feature_cols]\n",
    "y_lr = t_train.Survived\n",
    "X_train, X_test, y_train, y_test = train_test_split(X_lr, y_lr, test_size=0.25, random_state=1) # 70% training and 30% test\n",
    "\n",
    "lr = LogisticRegression(random_state=0, solver='lbfgs',\n",
    "                         multi_class='multinomial').fit(X_train, y_train)\n",
    "prob = lr.predict_proba(X_lr)\n",
    "\n",
    "print(f'probabilty (count = {len(prob)}\\n{prob}\\n')\n",
    "print(f'score: {clf.score(X_test, y_test)}')\n"
   ]
  },
  {
   "cell_type": "markdown",
   "metadata": {},
   "source": [
    "## Using K-Nearest Neighbors\n",
    "because.. why not?"
   ]
  },
  {
   "cell_type": "code",
   "execution_count": 16,
   "metadata": {},
   "outputs": [
    {
     "name": "stdout",
     "output_type": "stream",
     "text": [
      "[[118  10]\n",
      " [ 37  58]]\n",
      "              precision    recall  f1-score   support\n",
      "\n",
      "           0       0.76      0.92      0.83       128\n",
      "           1       0.85      0.61      0.71        95\n",
      "\n",
      "    accuracy                           0.79       223\n",
      "   macro avg       0.81      0.77      0.77       223\n",
      "weighted avg       0.80      0.79      0.78       223\n",
      "\n"
     ]
    }
   ],
   "source": [
    "from sklearn.preprocessing import StandardScaler\n",
    "scaler = StandardScaler()\n",
    "scaler.fit(X_train)\n",
    "\n",
    "X_train = scaler.transform(X_train)\n",
    "X_test = scaler.transform(X_test)\n",
    "\n",
    "from sklearn.neighbors import KNeighborsClassifier\n",
    "classifier = KNeighborsClassifier(n_neighbors=5)\n",
    "classifier.fit(X_train, y_train)\n",
    "\n",
    "y_pred = classifier.predict(X_test)\n",
    "\n",
    "from sklearn.metrics import classification_report, confusion_matrix\n",
    "print(confusion_matrix(y_test, y_pred))\n",
    "print(classification_report(y_test, y_pred))"
   ]
  }
 ],
 "metadata": {
  "kernelspec": {
   "display_name": "Python 3",
   "language": "python",
   "name": "python3"
  },
  "language_info": {
   "codemirror_mode": {
    "name": "ipython",
    "version": 3
   },
   "file_extension": ".py",
   "mimetype": "text/x-python",
   "name": "python",
   "nbconvert_exporter": "python",
   "pygments_lexer": "ipython3",
   "version": "3.7.3"
  },
  "pycharm": {
   "stem_cell": {
    "cell_type": "raw",
    "metadata": {
     "collapsed": false
    },
    "source": []
   }
  }
 },
 "nbformat": 4,
 "nbformat_minor": 1
}
